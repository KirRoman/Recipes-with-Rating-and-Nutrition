{
 "cells": [
  {
   "cell_type": "code",
   "execution_count": 30,
   "metadata": {},
   "outputs": [],
   "source": [
    "import random\n",
    "import re\n",
    "import pandas as pd\n",
    "import numpy as np\n",
    "import joblib\n",
    "\n",
    "class Forecast:\n",
    "\n",
    "    def __init__(self, list_of_ingredients):\n",
    "        self.list_of_ingredients = list_of_ingredients\n",
    "#        self.list_of_ingredients = self.list_of_ingredients.lower()\n",
    "#        self.list_of_ingredients = self.list_of_ingredients.split(',')\n",
    "#        self.list_of_ingredients = [x.strip(' ') for x in self.list_of_ingredients]\n",
    "\n",
    "    def preprocess(self):\n",
    "        df = pd.read_csv('epi_r_clean.csv')\n",
    "        groceries = df.columns[2:]\n",
    "        vector = pd.DataFrame(data = np.zeros((1, len(groceries))), columns=groceries)\n",
    "        for i in list(groceries):\n",
    "            if i in self.list_of_ingredients:\n",
    "                vector[i] = 1.0\n",
    "        self.vector = vector\n",
    "        return self.vector\n",
    "\n",
    "    def predict_rating_category(self):\n",
    "        model = joblib.load('best_RandomForestClassifier_cl.joblib')\n",
    "        rating_cat = model.predict(self.vector)\n",
    "        if rating_cat == 'great':\n",
    "            text = 'Вкусное. Отличный выбор продуктов!'\n",
    "        if rating_cat == 'so-so':\n",
    "            text = 'Нормальное. Но может пересмотрим что-то в списке продуктов?'\n",
    "        if rating_cat == 'bad':\n",
    "            text = 'Невкусное. Хоть конкретно Вам может быть и понравится блюдо из этих ингридиентов, но, на наш взгляд, это плохая идея - готовить блюдо из них. Хотели предупредить.'\n",
    "        rating_cat = rating_cat\n",
    "        return rating_cat, text\n",
    "\n",
    "class NutritionFacts:\n",
    "    def __init__(self, list_of_ingredients):\n",
    "        self.list_of_ingredients = list_of_ingredients\n",
    "#        self.list_of_ingredients = self.list_of_ingredients.lower()\n",
    "#        self.list_of_ingredients = self.list_of_ingredients.split(',')\n",
    "#        self.list_of_ingredients = [x.strip(' ') for x in self.list_of_ingredients]\n",
    "        \n",
    "    def retrieve(self):\n",
    "        df = pd.read_csv('df_nutrition.csv')\n",
    "        for i in self.list_of_ingredients:\n",
    "            if i == self.list_of_ingredients[0]:\n",
    "                nutr = df.loc[df['food_product'] == i]\n",
    "                df_nutr = nutr\n",
    "            else:\n",
    "                nutr = df.loc[df['food_product'] == i]\n",
    "                df_nutr = pd.concat([df_nutr, nutr])\n",
    "        df_nutr.reset_index(drop=True, inplace=True)\n",
    "        for x in range(len(df_nutr)):\n",
    "            df_nutr['pr_daily_norm'][x] =  round(df_nutr['pr_daily_norm'][x], 0)\n",
    "            df_nutr['nutrition'][x] = df_nutr['nutrition'][x].split(',')[0]\n",
    "        df_nutr = df_nutr.loc[df_nutr['pr_daily_norm'] > 0]\n",
    "        df_nutr = df_nutr.sort_values(by=['food_product', 'pr_daily_norm'], ascending=False)\n",
    "        df_nutr.drop(columns=['value'], inplace=True)\n",
    "        df_nutr.reset_index(drop=True, inplace=True)\n",
    "        self.facts = df_nutr\n",
    "        return self.facts\n",
    "\n",
    "class SimilarRecipes:\n",
    "    def __init__(self, list_of_ingredients):\n",
    "        self.list_of_ingredients = list_of_ingredients\n",
    "#        self.list_of_ingredients = self.list_of_ingredients.lower()\n",
    "#        self.list_of_ingredients = self.list_of_ingredients.split(',')\n",
    "#        self.list_of_ingredients = [x.strip(' ') for x in self.list_of_ingredients]\n",
    "    \n",
    "    def find_all(self):\n",
    "        df = pd.read_csv('df_recipes.csv')\n",
    "        df = df.loc[df['val'] - len(self.list_of_ingredients) <= 5]\n",
    "        for i in self.list_of_ingredients:\n",
    "            if i == self.list_of_ingredients[0]:\n",
    "                df_rec = df.loc[df[i] == 1]\n",
    "                df_recipes = df_rec\n",
    "            else:\n",
    "                df_rec = df.loc[df[i] == i]\n",
    "                df_recipes = pd.concat([df_recipes, df_rec])\n",
    "        df_recipes = df_recipes.drop_duplicates(keep='first')\n",
    "        df_recipes.reset_index(drop=True, inplace=True)\n",
    "        df_recipes['ing'] = df_recipes['val']\n",
    "        df_recipes['ing_n'] = df_recipes['val']\n",
    "        for x in range(len(df_recipes)):\n",
    "            df_recipes['ing'][x] = 0\n",
    "            for y in self.list_of_ingredients:\n",
    "                df_recipes['ing'][x] = df_recipes['ing'][x] + df_recipes[y][x]\n",
    "        df_recipes['ing_n'][x] = df_recipes['val'][x] - df_recipes['ing'][x]\n",
    "        df_recipes = df_recipes.sort_values(by = ['ing', 'ing_n'], ascending=[False, True])\n",
    "        self.n = df_recipes['ing'][0]\n",
    "        self.indexes = df_recipes\n",
    "        return self.indexes, self.n\n",
    "\n",
    "    def top_similar(self):\n",
    "        text_with_recipes = self.indexes\n",
    "        text_with_recipes = text_with_recipes.loc[text_with_recipes['ing'] <= 5]\n",
    "        text_with_recipes.reset_index(drop=True, inplace=True)\n",
    "        return text_with_recipes"
   ]
  },
  {
   "cell_type": "code",
   "execution_count": 33,
   "metadata": {},
   "outputs": [
    {
     "data": {
      "text/plain": [
       "Index(['alcoholic', 'almond', 'amaretto', 'anchovy', 'anise', 'apple',\n",
       "       'apple juice', 'apricot', 'artichoke', 'asian pear',\n",
       "       ...\n",
       "       'whiskey', 'white wine', 'whole wheat', 'wild rice', 'wine', 'wok',\n",
       "       'yellow squash', 'yogurt', 'zucchini', 'turkey'],\n",
       "      dtype='object', length=389)"
      ]
     },
     "execution_count": 33,
     "metadata": {},
     "output_type": "execute_result"
    }
   ],
   "source": [
    "df_1 = pd.read_csv('epi_r_clean.csv')\n",
    "groceries = df.columns[2:]; groceries"
   ]
  },
  {
   "cell_type": "markdown",
   "metadata": {},
   "source": [
    "saffron, gin, chile pepper - bad // \n",
    "bread, avocado, cheese, garlic - great //\n",
    "a, b, c, garlic - a,b,c - нет в базе//\n",
    "bread, avocado, cheese, garlic, saffron, gin, chile pepper, banana, yogurt, zucchini - рецептов не найдено"
   ]
  },
  {
   "cell_type": "code",
   "execution_count": 24,
   "metadata": {},
   "outputs": [],
   "source": [
    "list_of_ingredients = input(\"Please write name of the ingredient in English, do not use numbers or special characters: \")\n",
    "list_of_ingr = list_of_ingredients.lower()\n",
    "list_of_ingr = list_of_ingr.split(',')\n",
    "list_of_ingr = [x.strip(' ') for x in list_of_ingr]"
   ]
  },
  {
   "cell_type": "code",
   "execution_count": 25,
   "metadata": {},
   "outputs": [
    {
     "data": {
      "text/plain": [
       "['saffron', 'gin', 'chile pepper']"
      ]
     },
     "execution_count": 25,
     "metadata": {},
     "output_type": "execute_result"
    }
   ],
   "source": [
    "list_of_ingr"
   ]
  },
  {
   "cell_type": "code",
   "execution_count": 32,
   "metadata": {},
   "outputs": [
    {
     "name": "stdout",
     "output_type": "stream",
     "text": [
      "Ingredients List Example: apple, bean, cookie, fruit, lentil, tomato\n"
     ]
    },
    {
     "ename": "AttributeError",
     "evalue": "'Forecast' object has no attribute 'recipes'",
     "output_type": "error",
     "traceback": [
      "\u001b[1;31m---------------------------------------------------------------------------\u001b[0m",
      "\u001b[1;31mAttributeError\u001b[0m                            Traceback (most recent call last)",
      "\u001b[1;32mc:\\Users\\зщ\\Desktop\\ресурсы по DS\\проекты\\ds15\\py.ipynb Ячейка 5\u001b[0m in \u001b[0;36m<cell line: 16>\u001b[1;34m()\u001b[0m\n\u001b[0;32m     <a href='vscode-notebook-cell:/c%3A/Users/%D0%B7%D1%89/Desktop/%D1%80%D0%B5%D1%81%D1%83%D1%80%D1%81%D1%8B%20%D0%BF%D0%BE%20DS/%D0%BF%D1%80%D0%BE%D0%B5%D0%BA%D1%82%D1%8B/ds15/py.ipynb#W1sZmlsZQ%3D%3D?line=24'>25</a>\u001b[0m     \u001b[39mprint\u001b[39m(\u001b[39m\"\u001b[39m\u001b[39mПопробуйте выбрать что-нибудь из списка:\u001b[39m\u001b[39m\"\u001b[39m, \u001b[39mlist\u001b[39m(groceries))\n\u001b[0;32m     <a href='vscode-notebook-cell:/c%3A/Users/%D0%B7%D1%89/Desktop/%D1%80%D0%B5%D1%81%D1%83%D1%80%D1%81%D1%8B%20%D0%BF%D0%BE%20DS/%D0%BF%D1%80%D0%BE%D0%B5%D0%BA%D1%82%D1%8B/ds15/py.ipynb#W1sZmlsZQ%3D%3D?line=25'>26</a>\u001b[0m \u001b[39mif\u001b[39;00m a \u001b[39m==\u001b[39m \u001b[39mlen\u001b[39m(list_of_ingr):\n\u001b[1;32m---> <a href='vscode-notebook-cell:/c%3A/Users/%D0%B7%D1%89/Desktop/%D1%80%D0%B5%D1%81%D1%83%D1%80%D1%81%D1%8B%20%D0%BF%D0%BE%20DS/%D0%BF%D1%80%D0%BE%D0%B5%D0%BA%D1%82%D1%8B/ds15/py.ipynb#W1sZmlsZQ%3D%3D?line=26'>27</a>\u001b[0m     recipe \u001b[39m=\u001b[39m fore\u001b[39m.\u001b[39;49mrecipes(list_of_ingr)\n\u001b[0;32m     <a href='vscode-notebook-cell:/c%3A/Users/%D0%B7%D1%89/Desktop/%D1%80%D0%B5%D1%81%D1%83%D1%80%D1%81%D1%8B%20%D0%BF%D0%BE%20DS/%D0%BF%D1%80%D0%BE%D0%B5%D0%BA%D1%82%D1%8B/ds15/py.ipynb#W1sZmlsZQ%3D%3D?line=27'>28</a>\u001b[0m     recipe\u001b[39m.\u001b[39mpreprocess()\n\u001b[0;32m     <a href='vscode-notebook-cell:/c%3A/Users/%D0%B7%D1%89/Desktop/%D1%80%D0%B5%D1%81%D1%83%D1%80%D1%81%D1%8B%20%D0%BF%D0%BE%20DS/%D0%BF%D1%80%D0%BE%D0%B5%D0%BA%D1%82%D1%8B/ds15/py.ipynb#W1sZmlsZQ%3D%3D?line=28'>29</a>\u001b[0m     rating_cat, text \u001b[39m=\u001b[39m recipe\u001b[39m.\u001b[39mpredict_rating_category()\n",
      "\u001b[1;31mAttributeError\u001b[0m: 'Forecast' object has no attribute 'recipes'"
     ]
    }
   ],
   "source": [
    "import pandas as pd\n",
    "pd.options.mode.chained_assignment = None\n",
    "import re\n",
    "print(\"Ingredients List Example: apple, bean, cookie, fruit, lentil, tomato\")\n",
    "list_of_ingredients = input(\"Please write name of the ingredient in English, do not use numbers or special characters: \")\n",
    "list_of_ingr = list_of_ingredients.lower()\n",
    "list_of_ingr = list_of_ingr.split(',')\n",
    "list_of_ingr = [x.strip(' ') for x in list_of_ingr]\n",
    "\n",
    "fore = Forecast(list_of_ingr)\n",
    "nutr = NutritionFacts(list_of_ingr)\n",
    "simi = SimilarRecipes(list_of_ingr)\n",
    "\n",
    "df = pd.read_csv('epi_r_clean.csv')\n",
    "groceries = df.columns[2:]\n",
    "if len(list_of_ingr) <= 1:\n",
    "    print(\"Слишком мало продуктов. Введите 2 продукта и более\")\n",
    "elif len(list_of_ingr) > 1:\n",
    "    a = 0\n",
    "    for i in list_of_ingr:\n",
    "        if i not in list(groceries):\n",
    "            print(\"К сожелению, не знаю такой продукт:\", i)\n",
    "        else: a = a + 1\n",
    "    if a < len(list_of_ingr):\n",
    "        print(\"Попробуйте выбрать что-нибудь из списка:\", list(groceries))\n",
    "    if a == len(list_of_ingr):\n",
    "        recipe = fore.recipes(list_of_ingr)\n",
    "        recipe.preprocess()\n",
    "        rating_cat, text = recipe.predict_rating_category()\n",
    "        print('\\n' + 'I. НАШ ПРОГНОЗ' + '\\n' + text + '\\n')\n",
    "        nutrition = recipes.NutritionFacts(list_of_ingr)\n",
    "        facts = nutrition.retrieve()\n",
    "        print(\"II. ПИЩЕВАЯ ЦЕННОСТЬ\")\n",
    "        for n in list_of_ingr:\n",
    "            print('\\n' + n + '\\n')\n",
    "            for nn in range(len(facts)):\n",
    "                if facts['food_product'][nn] == n:\n",
    "                    print(facts['nutrition'][nn], ' - ',facts['pr_daily_norm'][nn], '% of Daily Value')\n",
    "        similarrecipe = recipes.SimilarRecipes(list_of_ingr)\n",
    "        indexes,n = similarrecipe.find_all()\n",
    "        text_with_recipes = similarrecipe.top_similar()\n",
    "        print('\\n' + 'III. ТОП-3 ПОХОЖИХ РЕЦЕПТА:' + '\\n')\n",
    "        if n < len(list_of_ingr):\n",
    "            print('Не нашлось рецептов со всеми этими продуктами, но вот что нашлось с максимальным их количеством: ')\n",
    "            print(f\"  -   {indexes['title'][0]},   рейтинг {indexes['rating'][0]}   URL: {indexes['url'][0]}\")\n",
    "            print(f\"  -   {indexes['title'][1]},   рейтинг {indexes['rating'][1]}   URL: {indexes['url'][1]}\")\n",
    "            print(f\"  -   {indexes['title'][2]},   рейтинг {indexes['rating'][2]}   URL: {indexes['url'][2]}\")"
   ]
  },
  {
   "cell_type": "markdown",
   "metadata": {},
   "source": []
  },
  {
   "cell_type": "markdown",
   "metadata": {},
   "source": []
  },
  {
   "cell_type": "markdown",
   "metadata": {},
   "source": [
    "saffron, gin, chile pepper - bad // \n",
    "bread, avocado, cheese, garlic - great //\n",
    "a, b, c, garlic - a,b,c - нет в базе//\n",
    "bread, avocado, cheese, garlic, saffron, gin, chile pepper, banana, yogurt, zucchini - рецептов не найдено"
   ]
  },
  {
   "cell_type": "markdown",
   "metadata": {},
   "source": []
  }
 ],
 "metadata": {
  "kernelspec": {
   "display_name": "Python 3.9.12 ('base')",
   "language": "python",
   "name": "python3"
  },
  "language_info": {
   "codemirror_mode": {
    "name": "ipython",
    "version": 3
   },
   "file_extension": ".py",
   "mimetype": "text/x-python",
   "name": "python",
   "nbconvert_exporter": "python",
   "pygments_lexer": "ipython3",
   "version": "3.9.12"
  },
  "orig_nbformat": 4,
  "vscode": {
   "interpreter": {
    "hash": "52d9bec1bd0dd1d60d9f041927d73dc99a1ae836019e05c066f33f67e6a94d9c"
   }
  }
 },
 "nbformat": 4,
 "nbformat_minor": 2
}
